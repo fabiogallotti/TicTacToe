{
 "cells": [
  {
   "cell_type": "markdown",
   "metadata": {},
   "source": [
    "# TIC TAC TOE"
   ]
  },
  {
   "cell_type": "code",
   "execution_count": 1,
   "metadata": {},
   "outputs": [],
   "source": [
    "from IPython.display import clear_output\n",
    "\n",
    "def display_board(board):\n",
    "    \"\"\"Displays the board.\"\"\"\n",
    "    clear_output()\n",
    "    print(' ' + board[0] + ' | ' + board[1] + ' | ' + board[2] + ' ')\n",
    "    print('----------')\n",
    "    print(' ' + board[3] + ' | ' + board[4] + ' | ' + board[5] + ' ')\n",
    "    print('----------')\n",
    "    print(' ' + board[6] + ' | ' + board[7] + ' | ' + board[8] + ' ')"
   ]
  },
  {
   "cell_type": "code",
   "execution_count": 2,
   "metadata": {},
   "outputs": [
    {
     "name": "stdout",
     "output_type": "stream",
     "text": [
      " X | O | X \n",
      "----------\n",
      " O | X | O \n",
      "----------\n",
      " X | O | X \n"
     ]
    }
   ],
   "source": [
    "test_board = ['X','O','X','O','X','O','X','O','X']\n",
    "display_board(test_board)"
   ]
  },
  {
   "cell_type": "code",
   "execution_count": 3,
   "metadata": {},
   "outputs": [],
   "source": [
    "def player_input():\n",
    "    \"\"\" Returns (player1 marker, player2 marker).\"\"\"\n",
    "    \n",
    "    marker = ''\n",
    "    \n",
    "    while marker not in ('X','O'):\n",
    "        marker = input(\"Please pick a marker: 'X' or 'O' \").upper()\n",
    "    \n",
    "    if marker == 'X':\n",
    "        return('X', 'O')\n",
    "    else:\n",
    "        return('O', 'X')"
   ]
  },
  {
   "cell_type": "code",
   "execution_count": 4,
   "metadata": {},
   "outputs": [],
   "source": [
    "def place_marker(board, marker, position):\n",
    "    board[position-1] = marker"
   ]
  },
  {
   "cell_type": "code",
   "execution_count": 5,
   "metadata": {},
   "outputs": [
    {
     "name": "stdout",
     "output_type": "stream",
     "text": [
      " X | O | $ \n",
      "----------\n",
      " O | X | O \n",
      "----------\n",
      " X | O | X \n"
     ]
    }
   ],
   "source": [
    "place_marker(test_board,'$',3)\n",
    "display_board(test_board)"
   ]
  },
  {
   "cell_type": "code",
   "execution_count": 6,
   "metadata": {},
   "outputs": [],
   "source": [
    "def win_check(board, mark):\n",
    "    return (\n",
    "        (board[0] == board[1] == board[2] == mark) or # top row\n",
    "        (board[3] == board[4] == board[5] == mark) or # middle row\n",
    "        (board[6] == board[7] == board[8] == mark) or # bottom row\n",
    "        (board[0] == board[3] == board[6] == mark) or # left column\n",
    "        (board[1] == board[4] == board[7] == mark) or # middle column\n",
    "        (board[2] == board[5] == board[8] == mark) or # right column\n",
    "        (board[0] == board[4] == board[8] == mark) or # left diagonal\n",
    "        (board[2] == board[4] == board[6] == mark)    # right diagonal\n",
    "    )"
   ]
  },
  {
   "cell_type": "code",
   "execution_count": 7,
   "metadata": {},
   "outputs": [
    {
     "data": {
      "text/plain": [
       "True"
      ]
     },
     "execution_count": 7,
     "metadata": {},
     "output_type": "execute_result"
    }
   ],
   "source": [
    "win_check(test_board,'X')"
   ]
  },
  {
   "cell_type": "code",
   "execution_count": 8,
   "metadata": {},
   "outputs": [],
   "source": [
    "import random\n",
    "\n",
    "def choose_first():\n",
    "    first = random.randint(1,2)\n",
    "    return (f'Player {first}')"
   ]
  },
  {
   "cell_type": "code",
   "execution_count": 9,
   "metadata": {},
   "outputs": [],
   "source": [
    "def space_check(board, position):\n",
    "    return board[position-1] == ' '"
   ]
  },
  {
   "cell_type": "code",
   "execution_count": 10,
   "metadata": {},
   "outputs": [],
   "source": [
    "def full_board_check(board):\n",
    "    for position in range(10):\n",
    "        if space_check(board, position):\n",
    "            return False\n",
    "    return True"
   ]
  },
  {
   "cell_type": "code",
   "execution_count": 11,
   "metadata": {},
   "outputs": [],
   "source": [
    "def player_choice(board):\n",
    "    \n",
    "    position = -1\n",
    "    \n",
    "    while position not in range(10) or not space_check(board, position):\n",
    "        position = int(input('Choose a position: (1-9) '))\n",
    "        \n",
    "    return position"
   ]
  },
  {
   "cell_type": "code",
   "execution_count": 12,
   "metadata": {},
   "outputs": [],
   "source": [
    "def replay():\n",
    "    again = ''\n",
    "    while again not in ('Y', 'N'):\n",
    "        again = input('Do you want to play again? (Y/N) ').upper()\n",
    "        clear_output()\n",
    "    return again == 'Y'"
   ]
  },
  {
   "cell_type": "code",
   "execution_count": 13,
   "metadata": {},
   "outputs": [],
   "source": [
    "print('Welcome to Tic Tac Toe!')\n",
    "\n",
    "while True:\n",
    "    board = [' ']*9\n",
    "    player1_marker, player2_marker = player_input()    \n",
    "\n",
    "    turn = choose_first()\n",
    "    print(f'{turn} starts playing!')   \n",
    "\n",
    "    play_game = input('Ready to play? (Y/N)')\n",
    "    if play_game.lower() == 'y':\n",
    "          game_on = True\n",
    "    else:\n",
    "          game_on = False\n",
    "          \n",
    "    while game_on:\n",
    "        \n",
    "        if turn == 'Player 1':\n",
    "        # Player 1 Turn\n",
    "            \n",
    "            # Show the board\n",
    "            display_board(board)\n",
    "            \n",
    "            # Choose a position\n",
    "            position = player_choice(board)\n",
    "            \n",
    "            # Place the marker on a specific position\n",
    "            place_marker(board, player1_marker, position)\n",
    "            \n",
    "            # Check if won\n",
    "            if win_check(board, player1_marker):\n",
    "                display_board(board)\n",
    "                print('Player 1 wins!')\n",
    "                game_on = False\n",
    "\n",
    "            # Check if tie\n",
    "            if full_board_check(board):\n",
    "                display_board(board)\n",
    "                print('TIE! No winners')          \n",
    "                game_on = False\n",
    "            else:\n",
    "                # Next player\n",
    "                turn = 'Player 2'    \n",
    "            \n",
    "        else:\n",
    "        # Player 2 Turn.\n",
    "            # Show the board\n",
    "            display_board(board)\n",
    "            \n",
    "            # Choose a position\n",
    "            position = player_choice(board)\n",
    "            \n",
    "            # Place the marker on a specific position\n",
    "            place_marker(board, player2_marker, position)\n",
    "            \n",
    "            # Check if won\n",
    "            if win_check(board, player2_marker):\n",
    "                display_board(board)\n",
    "                print('Player 2 wins!')\n",
    "                game_on = False\n",
    "            # Check if tie\n",
    "            if full_board_check(board):\n",
    "                display_board(board)\n",
    "                print('TIE! No winners')          \n",
    "                game_on = False\n",
    "            else:\n",
    "                # Next player\n",
    "                turn = 'Player 1'\n",
    "\n",
    "    if not replay():\n",
    "        break"
   ]
  },
  {
   "cell_type": "code",
   "execution_count": null,
   "metadata": {},
   "outputs": [],
   "source": []
  }
 ],
 "metadata": {
  "kernelspec": {
   "display_name": "Python 3",
   "language": "python",
   "name": "python3"
  },
  "language_info": {
   "codemirror_mode": {
    "name": "ipython",
    "version": 3
   },
   "file_extension": ".py",
   "mimetype": "text/x-python",
   "name": "python",
   "nbconvert_exporter": "python",
   "pygments_lexer": "ipython3",
   "version": "3.6.5"
  }
 },
 "nbformat": 4,
 "nbformat_minor": 2
}
